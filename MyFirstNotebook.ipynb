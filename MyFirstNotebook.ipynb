{
 "cells": [
  {
   "cell_type": "markdown",
   "id": "c4088dd5-76f0-4ffb-9029-2ca7ae181798",
   "metadata": {},
   "source": [
    "# This is a Markdown heading!"
   ]
  },
  {
   "cell_type": "code",
   "execution_count": 2,
   "id": "a72e75a6-92aa-4e1a-b547-a69788a2b1ae",
   "metadata": {},
   "outputs": [],
   "source": [
    "codeVar = 5+5"
   ]
  },
  {
   "cell_type": "code",
   "execution_count": 4,
   "id": "54b6509d-9287-40a5-85ca-cf830ad42243",
   "metadata": {},
   "outputs": [
    {
     "data": {
      "text/plain": [
       "10"
      ]
     },
     "execution_count": 4,
     "metadata": {},
     "output_type": "execute_result"
    }
   ],
   "source": [
    "codeVar"
   ]
  },
  {
   "cell_type": "markdown",
   "id": "02a10e9d-3490-4313-a744-c4688701a22a",
   "metadata": {},
   "source": [
    "Behold, coding!"
   ]
  },
  {
   "cell_type": "code",
   "execution_count": 6,
   "id": "a44629c6-5be8-4bab-810a-be6d1896d35f",
   "metadata": {},
   "outputs": [
    {
     "name": "stdout",
     "output_type": "stream",
     "text": [
      "it's a string this time!\n"
     ]
    }
   ],
   "source": [
    "otherVar = 'it\\'s a string this time!'\n",
    "print (otherVar)"
   ]
  }
 ],
 "metadata": {
  "kernelspec": {
   "display_name": "Python 3 (ipykernel)",
   "language": "python",
   "name": "python3"
  },
  "language_info": {
   "codemirror_mode": {
    "name": "ipython",
    "version": 3
   },
   "file_extension": ".py",
   "mimetype": "text/x-python",
   "name": "python",
   "nbconvert_exporter": "python",
   "pygments_lexer": "ipython3",
   "version": "3.9.12"
  }
 },
 "nbformat": 4,
 "nbformat_minor": 5
}
